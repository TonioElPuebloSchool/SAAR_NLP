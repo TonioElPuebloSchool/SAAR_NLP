{
 "cells": [
  {
   "cell_type": "markdown",
   "metadata": {},
   "source": [
    "This **notebook** is meant to create a `neural network` model and compare it to the `improved baseline` model **results**.  \n",
    "Neural network models obtained a `81% accuracy` on the test set, which is a major improvement compared to baseline model, but still not much (compared to `90% precision` for improved model)"
   ]
  },
  {
   "cell_type": "markdown",
   "metadata": {},
   "source": [
    "***Import necessary libraries***"
   ]
  },
  {
   "cell_type": "code",
   "execution_count": 72,
   "metadata": {},
   "outputs": [],
   "source": [
    "import pandas as pd\n",
    "import sys\n",
    "import os\n",
    "import numpy as np\n",
    "import matplotlib.pyplot as plt"
   ]
  },
  {
   "cell_type": "code",
   "execution_count": 73,
   "metadata": {},
   "outputs": [],
   "source": [
    "import pandas as pd\n",
    "import numpy as np\n",
    "import keras\n",
    "from keras.preprocessing.text import Tokenizer\n",
    "from tensorflow.keras.preprocessing.sequence import pad_sequences\n",
    "from sklearn.preprocessing import LabelEncoder\n",
    "from sklearn.model_selection import train_test_split\n",
    "from keras.models import Sequential\n",
    "from keras.layers import Embedding, Flatten, Dense"
   ]
  },
  {
   "cell_type": "markdown",
   "metadata": {},
   "source": [
    "# Import the data"
   ]
  },
  {
   "cell_type": "markdown",
   "metadata": {},
   "source": [
    "As always, we import the data."
   ]
  },
  {
   "cell_type": "code",
   "execution_count": 74,
   "metadata": {},
   "outputs": [],
   "source": [
    "# import the preprocessed vectorized data\n",
    "train_data = pd.read_csv('data/pre_proc_data/train.txt')\n",
    "test_data = pd.read_csv('data/pre_proc_data/test.txt')\n",
    "val_data = pd.read_csv('data/pre_proc_data/val.txt')"
   ]
  },
  {
   "cell_type": "markdown",
   "metadata": {},
   "source": [
    "<a id=\"section-two\"></a>\n",
    "# Neural Network Model"
   ]
  },
  {
   "cell_type": "markdown",
   "metadata": {},
   "source": [
    "## Prepare the data"
   ]
  },
  {
   "cell_type": "markdown",
   "metadata": {},
   "source": [
    "Lets start by tokenizing the data, pad the sequences and convert the classes to numeric values."
   ]
  },
  {
   "cell_type": "code",
   "execution_count": 75,
   "metadata": {},
   "outputs": [],
   "source": [
    "texts = train_data[\"text\"].tolist()\n",
    "labels = train_data[\"emotion\"].tolist()\n",
    "\n",
    "# we tokenize the text data\n",
    "tokenizer = Tokenizer()\n",
    "tokenizer.fit_on_texts(texts)"
   ]
  },
  {
   "cell_type": "code",
   "execution_count": 76,
   "metadata": {},
   "outputs": [],
   "source": [
    "sequences = tokenizer.texts_to_sequences(texts)\n",
    "max_length = max([len(seq) for seq in sequences])\n",
    "padded_sequences = pad_sequences(sequences, maxlen=max_length)"
   ]
  },
  {
   "cell_type": "code",
   "execution_count": 77,
   "metadata": {},
   "outputs": [],
   "source": [
    "label_encoder = LabelEncoder()\n",
    "labels = label_encoder.fit_transform(labels)"
   ]
  },
  {
   "cell_type": "markdown",
   "metadata": {},
   "source": [
    "Now we need to **encode** the texts.  \n",
    "`One hot encoding` works fine for our needs (see [here](https://machinelearningmastery.com/prepare-text-data-deep-learning-keras/))."
   ]
  },
  {
   "cell_type": "code",
   "execution_count": 78,
   "metadata": {},
   "outputs": [],
   "source": [
    "# one-hot encode the labels\n",
    "one_hot_labels = keras.utils.to_categorical(labels)"
   ]
  },
  {
   "cell_type": "code",
   "execution_count": 79,
   "metadata": {},
   "outputs": [],
   "source": [
    "# now we can split the data into training and testing sets\n",
    "xtrain, xtest, ytrain, ytest = train_test_split(padded_sequences, one_hot_labels, test_size=0.2)"
   ]
  },
  {
   "cell_type": "markdown",
   "metadata": {},
   "source": [
    "Check for the shapes of the data."
   ]
  },
  {
   "cell_type": "code",
   "execution_count": 80,
   "metadata": {},
   "outputs": [
    {
     "name": "stdout",
     "output_type": "stream",
     "text": [
      "xtest shape: (3200, 66)\n",
      "ytest shape: (3200, 6)\n"
     ]
    }
   ],
   "source": [
    "print(\"xtest shape:\", xtest.shape)\n",
    "print(\"ytest shape:\", ytest.shape)"
   ]
  },
  {
   "cell_type": "markdown",
   "metadata": {},
   "source": [
    "## Create the model"
   ]
  },
  {
   "cell_type": "markdown",
   "metadata": {},
   "source": [
    "We will use a `sequential` model with `embedding`, `Flatten` and `Dense` layers.  Finishing with a `softmax` activation function.  \n",
    "We will use `categorical_crossentropy` as the `loss` function and `accuracy` as the `metric`.  \n",
    "\n",
    "This is based on the [Keras documentation](https://keras.io/examples/pretrained_word_embeddings/).  \n",
    "Also there are some good examples [here](https://machinelearningmastery.com/use-word-embedding-layers-deep-learning-keras/).  \n",
    "And also on [Kaggle](https://www.kaggle.com/datasets/praveengovi/emotions-dataset-for-nlp/code).  \n",
    "\n",
    "For most of what I saw those were the layers used.  I tried to add more layers but the results were not better."
   ]
  },
  {
   "cell_type": "code",
   "execution_count": 81,
   "metadata": {},
   "outputs": [
    {
     "name": "stdout",
     "output_type": "stream",
     "text": [
      "Epoch 1/15\n",
      "400/400 [==============================] - 28s 64ms/step - loss: 1.4062 - accuracy: 0.4580 - val_loss: 0.9728 - val_accuracy: 0.6534\n",
      "Epoch 2/15\n",
      "400/400 [==============================] - 24s 59ms/step - loss: 0.4423 - accuracy: 0.8573 - val_loss: 0.5021 - val_accuracy: 0.8356\n",
      "Epoch 3/15\n",
      "400/400 [==============================] - 24s 59ms/step - loss: 0.0795 - accuracy: 0.9787 - val_loss: 0.5223 - val_accuracy: 0.8297\n",
      "Epoch 4/15\n",
      "400/400 [==============================] - 26s 65ms/step - loss: 0.0296 - accuracy: 0.9932 - val_loss: 0.5739 - val_accuracy: 0.8309\n",
      "Epoch 5/15\n",
      "400/400 [==============================] - 24s 60ms/step - loss: 0.0217 - accuracy: 0.9955 - val_loss: 0.5464 - val_accuracy: 0.8419\n",
      "Epoch 6/15\n",
      "400/400 [==============================] - 24s 60ms/step - loss: 0.0160 - accuracy: 0.9966 - val_loss: 0.5740 - val_accuracy: 0.8400\n",
      "Epoch 7/15\n",
      "400/400 [==============================] - 23s 58ms/step - loss: 0.0163 - accuracy: 0.9965 - val_loss: 0.5919 - val_accuracy: 0.8353\n",
      "Epoch 8/15\n",
      "400/400 [==============================] - 24s 61ms/step - loss: 0.0125 - accuracy: 0.9970 - val_loss: 0.6525 - val_accuracy: 0.8341\n",
      "Epoch 9/15\n",
      "400/400 [==============================] - 27s 69ms/step - loss: 0.0127 - accuracy: 0.9969 - val_loss: 0.6315 - val_accuracy: 0.8381\n",
      "Epoch 10/15\n",
      "400/400 [==============================] - 24s 60ms/step - loss: 0.0115 - accuracy: 0.9968 - val_loss: 0.6364 - val_accuracy: 0.8447\n",
      "Epoch 11/15\n",
      "400/400 [==============================] - 25s 62ms/step - loss: 0.0110 - accuracy: 0.9970 - val_loss: 0.6598 - val_accuracy: 0.8384\n",
      "Epoch 12/15\n",
      "400/400 [==============================] - 26s 64ms/step - loss: 0.0116 - accuracy: 0.9964 - val_loss: 0.6494 - val_accuracy: 0.8381\n",
      "Epoch 13/15\n",
      "400/400 [==============================] - 25s 64ms/step - loss: 0.0093 - accuracy: 0.9966 - val_loss: 0.7496 - val_accuracy: 0.8316\n",
      "Epoch 14/15\n",
      "400/400 [==============================] - 24s 60ms/step - loss: 0.0082 - accuracy: 0.9973 - val_loss: 0.7370 - val_accuracy: 0.8344\n",
      "Epoch 15/15\n",
      "400/400 [==============================] - 24s 59ms/step - loss: 0.0066 - accuracy: 0.9971 - val_loss: 0.8098 - val_accuracy: 0.8275\n"
     ]
    },
    {
     "data": {
      "text/plain": [
       "<keras.src.callbacks.History at 0x1e8b46ece50>"
      ]
     },
     "execution_count": 81,
     "metadata": {},
     "output_type": "execute_result"
    }
   ],
   "source": [
    "model = Sequential()\n",
    "model.add(Embedding(input_dim=len(tokenizer.word_index) + 1, \n",
    "                    output_dim=128, input_length=max_length))\n",
    "model.add(Flatten())\n",
    "model.add(Dense(units=128, activation=\"relu\"))\n",
    "model.add(Dense(units=len(one_hot_labels[0]), activation=\"softmax\"))\n",
    "\n",
    "model.compile(optimizer=\"adam\", loss=\"categorical_crossentropy\", metrics=[\"accuracy\"])\n",
    "model.fit(xtrain, ytrain, epochs=15, batch_size=32, validation_data=(xtest, ytest))"
   ]
  },
  {
   "cell_type": "markdown",
   "metadata": {},
   "source": [
    "It took 6mn14 to run, lets analyze the curves and results."
   ]
  },
  {
   "cell_type": "code",
   "execution_count": 84,
   "metadata": {},
   "outputs": [
    {
     "name": "stdout",
     "output_type": "stream",
     "text": [
      "Epoch 1/5\n",
      " 20/400 [>.............................] - ETA: 35s - loss: 0.0256 - accuracy: 0.9891"
     ]
    },
    {
     "name": "stdout",
     "output_type": "stream",
     "text": [
      "400/400 [==============================] - 29s 71ms/step - loss: 0.0259 - accuracy: 0.9913 - val_loss: 1.0513 - val_accuracy: 0.8097\n",
      "Epoch 2/5\n",
      "400/400 [==============================] - 26s 66ms/step - loss: 0.0083 - accuracy: 0.9960 - val_loss: 1.0289 - val_accuracy: 0.8166\n",
      "Epoch 3/5\n",
      "400/400 [==============================] - 28s 70ms/step - loss: 0.0051 - accuracy: 0.9974 - val_loss: 1.0714 - val_accuracy: 0.8169\n",
      "Epoch 4/5\n",
      "400/400 [==============================] - 24s 59ms/step - loss: 0.0042 - accuracy: 0.9973 - val_loss: 1.1065 - val_accuracy: 0.8219\n",
      "Epoch 5/5\n",
      "400/400 [==============================] - 25s 62ms/step - loss: 0.0043 - accuracy: 0.9974 - val_loss: 1.0529 - val_accuracy: 0.8156\n"
     ]
    }
   ],
   "source": [
    "history = model.fit(xtrain, ytrain, epochs=5, batch_size=32, validation_data=(xtest, ytest))\n",
    "\n",
    "training_loss = history.history['loss']\n",
    "validation_loss = history.history['val_loss']\n",
    "training_accuracy = history.history['accuracy']\n",
    "validation_accuracy = history.history['val_accuracy']"
   ]
  },
  {
   "cell_type": "code",
   "execution_count": 85,
   "metadata": {},
   "outputs": [
    {
     "data": {
      "image/png": "[encoded data removed]",
      "text/plain": [
       "<Figure size 1200x400 with 2 Axes>"
      ]
     },
     "metadata": {},
     "output_type": "display_data"
    }
   ],
   "source": [
    "# plot training and validation loss\n",
    "plt.figure(figsize=(12, 4))\n",
    "plt.subplot(1, 2, 1)\n",
    "plt.plot(range(1, len(training_loss) + 1), training_loss, label='Training Loss')\n",
    "plt.plot(range(1, len(validation_loss) + 1), validation_loss, label='Validation Loss')\n",
    "plt.xlabel('Epoch')\n",
    "plt.ylabel('Loss')\n",
    "plt.title('Training and Validation Loss')\n",
    "plt.legend()\n",
    "\n",
    "# plot training and validation accuracy\n",
    "plt.subplot(1, 2, 2)\n",
    "plt.plot(range(1, len(training_accuracy) + 1), training_accuracy, label='Training Accuracy')\n",
    "plt.plot(range(1, len(validation_accuracy) + 1), validation_accuracy, label='Validation Accuracy')\n",
    "plt.xlabel('Epoch')\n",
    "plt.ylabel('Accuracy')\n",
    "plt.title('Training and Validation Accuracy')\n",
    "plt.legend()\n",
    "\n",
    "plt.tight_layout()\n",
    "plt.show()"
   ]
  },
  {
   "cell_type": "markdown",
   "metadata": {},
   "source": [
    "Looking at the curves, we can see that the `loss` is decreasing and the `accuracy` is increasing as expected, they are a bit flat, which indicates that we could train the model a bit more, but 7mn is already a lot."
   ]
  },
  {
   "cell_type": "markdown",
   "metadata": {},
   "source": [
    "Now lets see the accuracy."
   ]
  },
  {
   "cell_type": "code",
   "execution_count": 86,
   "metadata": {},
   "outputs": [
    {
     "name": "stdout",
     "output_type": "stream",
     "text": [
      "Training Accuracy: 0.9981\n",
      "Testing Accuracy:  0.8156\n"
     ]
    }
   ],
   "source": [
    "loss, accuracy = model.evaluate(xtrain, ytrain, verbose=False)\n",
    "print(\"Training Accuracy: {:.4f}\".format(accuracy))\n",
    "loss, accuracy = model.evaluate(xtest, ytest, verbose=False)\n",
    "print(\"Testing Accuracy:  {:.4f}\".format(accuracy))"
   ]
  },
  {
   "cell_type": "markdown",
   "metadata": {},
   "source": [
    "Results were :\n",
    "```bash\n",
    "Training Accuracy: 0.9984\n",
    "Testing Accuracy:  0.8166\n",
    "```\n",
    "\n",
    "Accuracy is good, but not as good as the `improved baseline` model.  \n",
    "In fact it's a bit low for a `neural network` model.  \n",
    "This can be due to the fact that we have a small dataset and that we are using `one hot encoding`, one improvement could be to use `word embeddings` instead and see if the results are better."
   ]
  },
  {
   "cell_type": "markdown",
   "metadata": {},
   "source": [
    "For now we can save the architecture of the model and the weights."
   ]
  },
  {
   "cell_type": "code",
   "execution_count": 87,
   "metadata": {},
   "outputs": [],
   "source": [
    "model_architecture = model.to_json()\n",
    "with open(\"model_architecture.json\", \"w\") as json_file:\n",
    "    json_file.write(model_architecture)\n",
    "\n",
    "model.save_weights(\"model_weights.h5\")"
   ]
  },
  {
   "cell_type": "markdown",
   "metadata": {},
   "source": [
    "Now given a sentence, we can predict the emotion.  \n",
    "Lets try with \"I'm glade I'm in vacation working NPL project !\"."
   ]
  },
  {
   "cell_type": "code",
   "execution_count": 88,
   "metadata": {},
   "outputs": [
    {
     "name": "stdout",
     "output_type": "stream",
     "text": [
      "1/1 [==============================] - 0s 437ms/step\n",
      "['joy']\n"
     ]
    }
   ],
   "source": [
    "input_text = \"I'm glade I'm in vacation working NPL project !\"\n",
    "\n",
    "# Preprocess the input text\n",
    "input_sequence = tokenizer.texts_to_sequences([input_text])\n",
    "padded_input_sequence = pad_sequences(input_sequence, maxlen=max_length)\n",
    "prediction = model.predict(padded_input_sequence)\n",
    "predicted_label = label_encoder.inverse_transform([np.argmax(prediction[0])])\n",
    "print(predicted_label)"
   ]
  },
  {
   "cell_type": "markdown",
   "metadata": {},
   "source": [
    "Good so it worked pretty well !"
   ]
  }
 ],
 "metadata": {
  "kernelspec": {
   "display_name": "NPL",
   "language": "python",
   "name": "python3"
  },
  "language_info": {
   "codemirror_mode": {
    "name": "ipython",
    "version": 3
   },
   "file_extension": ".py",
   "mimetype": "text/x-python",
   "name": "python",
   "nbconvert_exporter": "python",
   "pygments_lexer": "ipython3",
   "version": "3.10.12"
  }
 },
 "nbformat": 4,
 "nbformat_minor": 2
}
